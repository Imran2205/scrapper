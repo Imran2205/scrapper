{
 "cells": [
  {
   "cell_type": "code",
   "execution_count": null,
   "outputs": [],
   "source": [
    "import json\n",
    "import os\n",
    "import re\n",
    "from selenium import webdriver\n",
    "from selenium.common.exceptions import TimeoutException\n",
    "from selenium.webdriver.support.ui import WebDriverWait\n",
    "from selenium.webdriver.support import expected_conditions as EC\n",
    "from selenium.webdriver.common.by import By\n",
    "from selenium.webdriver.chrome.options import Options\n",
    "from selenium.webdriver.common.action_chains import ActionChains\n",
    "from selenium.webdriver.common.keys import Keys\n",
    "import time\n",
    "from scrapy.crawler import CrawlerProcess\n",
    "from mantis_scrapper.mantis_scrapper.spiders.mantis_spider import MantisSpider\n",
    "from bs4 import BeautifulSoup"
   ],
   "metadata": {
    "collapsed": false,
    "pycharm": {
     "name": "#%%\n"
    }
   }
  },
  {
   "cell_type": "code",
   "execution_count": null,
   "outputs": [],
   "source": [
    "news_webs = [\n",
    "    'https://www.fiercewireless.com',\n",
    "]\n",
    "\n",
    "key_words = [\n",
    "    \"smartphone\", \"smartphone technology\",\n",
    "    \"wearables\", \"smart watch\", \"smart glasses\", \"ar/vr headsets\", \"ar headsets\", \"vr headsets\",\n",
    "    \"iphone\", \"android smartphone\",\n",
    "    \"apple\", \"samsung\", \"xiaomi\", \"oppo\", \"vivo\",\n",
    "    \"qualcomm\", \"nxp\", \"mediaTek\", \"cirrus logic\", \"skyworks\", \"qorvo\", \"broadcom\", \"sony\", \"murata\",\n",
    "    \"wifi\", \"cellular\", \"5g\", \"6g\", \"uwb\", \"nfc\",\n",
    "    \"apple pay\", \"android pay\",\n",
    "    \"magsafe\", \"wireless charging\",\n",
    "    \"power management\", \"battery management\",\n",
    "    \"envelope tracker\",\n",
    "    \"rf front end\", \"transceiver\", \"modem\",\n",
    "    \"mmwave\", \"fr2\", \"fr3\",\n",
    "    \"oled display\", \"uled\", \"ltpo\", \"display driver ic\",\n",
    "    \"smartphone camera\", \"image sensing\", \"3d sensing\", \"camera\",\n",
    "    \"smart audio\",\n",
    "    \"haptics\",\n",
    "    \"satellite to smartphone connectivity\"\n",
    "]\n",
    "\n",
    "WINDOW_SIZE = \"1000,600\"\n",
    "\n",
    "chrome_options = Options()\n",
    "chrome_options.add_argument(\"--window-size=%s\" % WINDOW_SIZE)\n",
    "\n",
    "all_urls = []"
   ],
   "metadata": {
    "collapsed": false,
    "pycharm": {
     "name": "#%%\n"
    }
   }
  },
  {
   "cell_type": "code",
   "execution_count": null,
   "outputs": [],
   "source": [
    "def link_parser(web_links):\n",
    "    for count, url in enumerate(web_links):\n",
    "        if url.endswith('/'):\n",
    "            url = url[:-1]\n",
    "        print(\"loading....\", url)\n",
    "        driver = webdriver.Chrome(\n",
    "            executable_path=r'C:\\chromedriver.exe',\n",
    "            chrome_options=chrome_options\n",
    "        )\n",
    "        driver.get(url)\n",
    "        html = driver.page_source\n",
    "\n",
    "        driver.close()\n",
    "        driver.quit()\n",
    "\n",
    "        time.sleep(2)\n",
    "        soup = BeautifulSoup(html, 'html.parser')\n",
    "        if len(url.split('/')) > 4:\n",
    "            tag_div_ids = [\"article-tags-row\", \"article-tags-bottom-row\"]\n",
    "            tags_list = []\n",
    "            for tag_div_id in tag_div_ids:\n",
    "                tags_divs = soup.find_all(\"div\", {\"id\": tag_div_id})\n",
    "                for tags_div in tags_divs:\n",
    "                    tags = tags_div.find_all(\n",
    "                        'a', {\"class\": \"tag\"}\n",
    "                    )\n",
    "                    key_word_match = False\n",
    "                    for tag in tags:\n",
    "                        if tag not in tags_list:\n",
    "                            tags_list.append(tag.text.encode(\"utf-8\"))\n",
    "                            if tag.lower() in key_words:\n",
    "                                key_word_match = True\n",
    "                    if key_word_match:\n",
    "                        with open(\"matched_urls.txt\", 'a') as fa:\n",
    "                            fa.write(url + \" | \" + \",\".join(tags_list))\n",
    "            exit()\n",
    "\n",
    "        urls = []\n",
    "        for link in soup.find_all('a'):\n",
    "            link_ = link.get('href')\n",
    "            if link_:\n",
    "                if not link_.startswith('https://www.'):\n",
    "                    base_url = \"https://\" + url.split('//')[1].split('/')[0]\n",
    "                    link_ = base_url + link_\n",
    "                website = \"https://\" + link_.split('//')[1].split('/')[0]\n",
    "                # print(website)\n",
    "                if website not in news_webs:\n",
    "                    continue\n",
    "                if link_ not in all_urls:\n",
    "                    urls.append(link_)\n",
    "                    all_urls.append(link_)\n",
    "\n",
    "        link_parser(urls)\n"
   ],
   "metadata": {
    "collapsed": false,
    "pycharm": {
     "name": "#%%\n"
    }
   }
  },
  {
   "cell_type": "code",
   "execution_count": null,
   "outputs": [],
   "source": [
    "link_parser(news_webs)"
   ],
   "metadata": {
    "collapsed": false,
    "pycharm": {
     "name": "#%%\n"
    }
   }
  },
  {
   "cell_type": "code",
   "execution_count": null,
   "outputs": [],
   "source": [
    "with open('all_urls.txt', 'w') as f:\n",
    "    f.write(\"\\n\".join(all_urls))"
   ],
   "metadata": {
    "collapsed": false,
    "pycharm": {
     "name": "#%%\n"
    }
   }
  }
 ],
 "metadata": {
  "kernelspec": {
   "display_name": "Python 3",
   "language": "python",
   "name": "python3"
  },
  "language_info": {
   "codemirror_mode": {
    "name": "ipython",
    "version": 2
   },
   "file_extension": ".py",
   "mimetype": "text/x-python",
   "name": "python",
   "nbconvert_exporter": "python",
   "pygments_lexer": "ipython2",
   "version": "2.7.6"
  }
 },
 "nbformat": 4,
 "nbformat_minor": 0
}