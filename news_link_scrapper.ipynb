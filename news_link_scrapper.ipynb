{
 "cells": [
  {
   "cell_type": "code",
   "execution_count": 1,
   "outputs": [],
   "source": [
    "import json\n",
    "import os\n",
    "import re\n",
    "from selenium import webdriver\n",
    "from selenium.common.exceptions import TimeoutException\n",
    "from selenium.webdriver.support.ui import WebDriverWait\n",
    "from selenium.webdriver.support import expected_conditions as EC\n",
    "from selenium.webdriver.common.by import By\n",
    "from selenium.webdriver.chrome.options import Options\n",
    "from selenium.webdriver.common.action_chains import ActionChains\n",
    "from selenium.webdriver.common.keys import Keys\n",
    "import time\n",
    "from scrapy.crawler import CrawlerProcess\n",
    "from mantis_scrapper.mantis_scrapper.spiders.mantis_spider import MantisSpider\n",
    "from bs4 import BeautifulSoup\n",
    "import sys\n",
    "import os"
   ],
   "metadata": {
    "collapsed": false,
    "pycharm": {
     "name": "#%%\n"
    }
   }
  },
  {
   "cell_type": "code",
   "execution_count": 2,
   "outputs": [
    {
     "name": "stdout",
     "output_type": "stream",
     "text": [
      "3000\n",
      "150000\n"
     ]
    }
   ],
   "source": [
    "print(sys.getrecursionlimit())\n",
    "sys.setrecursionlimit(150000)\n",
    "print(sys.getrecursionlimit())"
   ],
   "metadata": {
    "collapsed": false,
    "pycharm": {
     "name": "#%%\n"
    }
   }
  },
  {
   "cell_type": "code",
   "execution_count": 3,
   "outputs": [],
   "source": [
    "news_webs = [\n",
    "    'https://www.fiercewireless.com',\n",
    "]\n",
    "\n",
    "key_words = [\n",
    "    \"smartphone\", \"smartphone technology\",\n",
    "    \"wearables\", \"smart watch\", \"smart glasses\", \"ar/vr headsets\", \"ar headsets\", \"vr headsets\",\n",
    "    \"iphone\", \"android smartphone\",\n",
    "    \"apple\", \"samsung\", \"xiaomi\", \"oppo\", \"vivo\",\n",
    "    \"qualcomm\", \"nxp\", \"mediaTek\", \"cirrus logic\", \"skyworks\", \"qorvo\", \"broadcom\", \"sony\", \"murata\",\n",
    "    \"wifi\", \"cellular\", \"5g\", \"6g\", \"uwb\", \"nfc\",\n",
    "    \"apple pay\", \"android pay\",\n",
    "    \"magsafe\", \"wireless charging\",\n",
    "    \"power management\", \"battery management\",\n",
    "    \"envelope tracker\",\n",
    "    \"rf front end\", \"transceiver\", \"modem\",\n",
    "    \"mmwave\", \"fr2\", \"fr3\",\n",
    "    \"oled display\", \"uled\", \"ltpo\", \"display driver ic\",\n",
    "    \"smartphone camera\", \"image sensing\", \"3d sensing\", \"camera\",\n",
    "    \"smart audio\",\n",
    "    \"haptics\",\n",
    "    \"satellite to smartphone connectivity\"\n",
    "]\n",
    "\n",
    "WINDOW_SIZE = \"1000,600\"\n",
    "\n",
    "chrome_options = Options()\n",
    "chrome_options.add_argument(\"--window-size=%s\" % WINDOW_SIZE)"
   ],
   "metadata": {
    "collapsed": false,
    "pycharm": {
     "name": "#%%\n"
    }
   }
  },
  {
   "cell_type": "code",
   "execution_count": 4,
   "outputs": [],
   "source": [
    "all_urls = []\n",
    "scrapped_links = []\n",
    "visited_links = []"
   ],
   "metadata": {
    "collapsed": false,
    "pycharm": {
     "name": "#%%\n"
    }
   }
  },
  {
   "cell_type": "code",
   "execution_count": 5,
   "outputs": [],
   "source": [
    "def link_parser(web_links):\n",
    "    for count, url in enumerate(web_links):\n",
    "        if url.endswith('/'):\n",
    "            url = url[:-1]\n",
    "        if url in scrapped_links or url in visited_links:\n",
    "            if len(web_links) > 1:\n",
    "                print(\"skipping already visited: \", url)\n",
    "                continue\n",
    "        print(\"loading....\", url)\n",
    "        driver = webdriver.Chrome(\n",
    "            executable_path=r'C:\\chromedriver.exe',\n",
    "            chrome_options=chrome_options\n",
    "        )\n",
    "        driver.get(url)\n",
    "        with open(\"visited_urls.txt\", 'a') as fb:\n",
    "            fb.write(url + \"\\n\")\n",
    "            visited_links.append(url)\n",
    "        html = driver.page_source\n",
    "\n",
    "        driver.close()\n",
    "        driver.quit()\n",
    "\n",
    "        time.sleep(2)\n",
    "        soup = BeautifulSoup(html, 'html.parser')\n",
    "        if len(url.split('/')) > 4:\n",
    "            tag_div_ids = [\"article-tags-row\", \"article-tags-bottom-row\"]\n",
    "            tags_list = []\n",
    "            key_word_match = False\n",
    "            for tag_div_id in tag_div_ids:\n",
    "                tags_divs = soup.find_all(\"div\", {\"id\": tag_div_id})\n",
    "                for tags_div in tags_divs:\n",
    "                    tags = tags_div.find_all(\n",
    "                        'a', {\"class\": \"tag\"}\n",
    "                    )\n",
    "                    for tag in tags:\n",
    "                        if tag and tag not in tags_list:\n",
    "                            tags_list.append(tag.text)\n",
    "                            if tag.text.lower() in key_words:\n",
    "                                key_word_match = True\n",
    "            if key_word_match:\n",
    "                with open(\"matched_urls.txt\", 'a') as fa:\n",
    "                    fa.write(url + \" | \" + \",\".join(tags_list) + \"\\n\")\n",
    "                    scrapped_links.append(url)\n",
    "            exit()\n",
    "        urls = []\n",
    "        for link in soup.find_all('a'):\n",
    "            link_ = link.get('href')\n",
    "            if link_:\n",
    "                if not link_.startswith('https://www.'):\n",
    "                    base_url = \"https://\" + url.split('//')[1].split('/')[0]\n",
    "                    link_ = base_url + link_\n",
    "                website = \"https://\" + link_.split('//')[1].split('/')[0]\n",
    "                # print(website)\n",
    "                if website not in news_webs:\n",
    "                    continue\n",
    "                if link_ in all_urls or link_ in scrapped_links or link_ in visited_links:\n",
    "                    continue\n",
    "                urls.append(link_)\n",
    "                all_urls.append(link_)\n",
    "\n",
    "        link_parser(urls)\n"
   ],
   "metadata": {
    "collapsed": false,
    "pycharm": {
     "name": "#%%\n"
    }
   }
  },
  {
   "cell_type": "code",
   "execution_count": 6,
   "outputs": [
    {
     "name": "stdout",
     "output_type": "stream",
     "text": [
      "loading.... https://www.fiercewireless.com\n"
     ]
    },
    {
     "name": "stderr",
     "output_type": "stream",
     "text": [
      "C:\\Users\\admin\\AppData\\Local\\Temp\\ipykernel_46584\\3167443267.py:10: DeprecationWarning: executable_path has been deprecated, please pass in a Service object\n",
      "  driver = webdriver.Chrome(\n",
      "C:\\Users\\admin\\AppData\\Local\\Temp\\ipykernel_46584\\3167443267.py:10: DeprecationWarning: use options instead of chrome_options\n",
      "  driver = webdriver.Chrome(\n"
     ]
    },
    {
     "name": "stdout",
     "output_type": "stream",
     "text": [
      "skipping already visited:  https://www.fiercewireless.com\n",
      "loading.... https://www.fiercewireless.com/private-wireless\n",
      "loading.... https://www.fiercewireless.com/private-wireless/chips-are-holding-back-5g-private-wireless\n"
     ]
    },
    {
     "ename": "NoSuchWindowException",
     "evalue": "Message: no such window: target window already closed\nfrom unknown error: web view not found\n  (Session info: chrome=109.0.5414.120)\nStacktrace:\nBacktrace:\n\t(No symbol) [0x007A6643]\n\t(No symbol) [0x0073BE21]\n\t(No symbol) [0x0063DA9D]\n\t(No symbol) [0x0061EF6A]\n\t(No symbol) [0x00693AAB]\n\t(No symbol) [0x006A61B6]\n\t(No symbol) [0x0068FB76]\n\t(No symbol) [0x006649C1]\n\t(No symbol) [0x00665E5D]\n\tGetHandleVerifier [0x00A1A142+2497106]\n\tGetHandleVerifier [0x00A485D3+2686691]\n\tGetHandleVerifier [0x00A4BB9C+2700460]\n\tGetHandleVerifier [0x00853B10+635936]\n\t(No symbol) [0x00744A1F]\n\t(No symbol) [0x0074A418]\n\t(No symbol) [0x0074A505]\n\t(No symbol) [0x0075508B]\n\tBaseThreadInitThunk [0x775B7D69+25]\n\tRtlInitializeExceptionChain [0x77D4BB9B+107]\n\tRtlClearBits [0x77D4BB1F+191]\n",
     "output_type": "error",
     "traceback": [
      "\u001B[1;31m---------------------------------------------------------------------------\u001B[0m",
      "\u001B[1;31mNoSuchWindowException\u001B[0m                     Traceback (most recent call last)",
      "Cell \u001B[1;32mIn[6], line 7\u001B[0m\n\u001B[0;32m      5\u001B[0m     \u001B[38;5;28;01mwith\u001B[39;00m \u001B[38;5;28mopen\u001B[39m(\u001B[38;5;124m\"\u001B[39m\u001B[38;5;124mvisited_urls.txt\u001B[39m\u001B[38;5;124m\"\u001B[39m, \u001B[38;5;124m'\u001B[39m\u001B[38;5;124mr\u001B[39m\u001B[38;5;124m'\u001B[39m) \u001B[38;5;28;01mas\u001B[39;00m fbo:\n\u001B[0;32m      6\u001B[0m         visited_links \u001B[38;5;241m=\u001B[39m [x\u001B[38;5;241m.\u001B[39mreplace(\u001B[38;5;124m'\u001B[39m\u001B[38;5;130;01m\\n\u001B[39;00m\u001B[38;5;124m'\u001B[39m, \u001B[38;5;124m'\u001B[39m\u001B[38;5;124m'\u001B[39m)\u001B[38;5;241m.\u001B[39mstrip() \u001B[38;5;28;01mfor\u001B[39;00m x \u001B[38;5;129;01min\u001B[39;00m fbo\u001B[38;5;241m.\u001B[39mreadlines()]\n\u001B[1;32m----> 7\u001B[0m \u001B[43mlink_parser\u001B[49m\u001B[43m(\u001B[49m\u001B[43mnews_webs\u001B[49m\u001B[43m)\u001B[49m\n",
      "Cell \u001B[1;32mIn[5], line 62\u001B[0m, in \u001B[0;36mlink_parser\u001B[1;34m(web_links)\u001B[0m\n\u001B[0;32m     59\u001B[0m         urls\u001B[38;5;241m.\u001B[39mappend(link_)\n\u001B[0;32m     60\u001B[0m         all_urls\u001B[38;5;241m.\u001B[39mappend(link_)\n\u001B[1;32m---> 62\u001B[0m \u001B[43mlink_parser\u001B[49m\u001B[43m(\u001B[49m\u001B[43murls\u001B[49m\u001B[43m)\u001B[49m\n",
      "Cell \u001B[1;32mIn[5], line 62\u001B[0m, in \u001B[0;36mlink_parser\u001B[1;34m(web_links)\u001B[0m\n\u001B[0;32m     59\u001B[0m         urls\u001B[38;5;241m.\u001B[39mappend(link_)\n\u001B[0;32m     60\u001B[0m         all_urls\u001B[38;5;241m.\u001B[39mappend(link_)\n\u001B[1;32m---> 62\u001B[0m \u001B[43mlink_parser\u001B[49m\u001B[43m(\u001B[49m\u001B[43murls\u001B[49m\u001B[43m)\u001B[49m\n",
      "Cell \u001B[1;32mIn[5], line 18\u001B[0m, in \u001B[0;36mlink_parser\u001B[1;34m(web_links)\u001B[0m\n\u001B[0;32m     16\u001B[0m     fb\u001B[38;5;241m.\u001B[39mwrite(url \u001B[38;5;241m+\u001B[39m \u001B[38;5;124m\"\u001B[39m\u001B[38;5;130;01m\\n\u001B[39;00m\u001B[38;5;124m\"\u001B[39m)\n\u001B[0;32m     17\u001B[0m     visited_links\u001B[38;5;241m.\u001B[39mappend(url)\n\u001B[1;32m---> 18\u001B[0m html \u001B[38;5;241m=\u001B[39m \u001B[43mdriver\u001B[49m\u001B[38;5;241;43m.\u001B[39;49m\u001B[43mpage_source\u001B[49m\n\u001B[0;32m     20\u001B[0m driver\u001B[38;5;241m.\u001B[39mclose()\n\u001B[0;32m     21\u001B[0m driver\u001B[38;5;241m.\u001B[39mquit()\n",
      "File \u001B[1;32m~\\Desktop\\desktop\\web\\scrapper\\venv\\lib\\site-packages\\selenium\\webdriver\\remote\\webdriver.py:540\u001B[0m, in \u001B[0;36mWebDriver.page_source\u001B[1;34m(self)\u001B[0m\n\u001B[0;32m    530\u001B[0m \u001B[38;5;129m@property\u001B[39m\n\u001B[0;32m    531\u001B[0m \u001B[38;5;28;01mdef\u001B[39;00m \u001B[38;5;21mpage_source\u001B[39m(\u001B[38;5;28mself\u001B[39m) \u001B[38;5;241m-\u001B[39m\u001B[38;5;241m>\u001B[39m \u001B[38;5;28mstr\u001B[39m:\n\u001B[0;32m    532\u001B[0m \u001B[38;5;250m    \u001B[39m\u001B[38;5;124;03m\"\"\"\u001B[39;00m\n\u001B[0;32m    533\u001B[0m \u001B[38;5;124;03m    Gets the source of the current page.\u001B[39;00m\n\u001B[0;32m    534\u001B[0m \n\u001B[1;32m   (...)\u001B[0m\n\u001B[0;32m    538\u001B[0m \u001B[38;5;124;03m            driver.page_source\u001B[39;00m\n\u001B[0;32m    539\u001B[0m \u001B[38;5;124;03m    \"\"\"\u001B[39;00m\n\u001B[1;32m--> 540\u001B[0m     \u001B[38;5;28;01mreturn\u001B[39;00m \u001B[38;5;28;43mself\u001B[39;49m\u001B[38;5;241;43m.\u001B[39;49m\u001B[43mexecute\u001B[49m\u001B[43m(\u001B[49m\u001B[43mCommand\u001B[49m\u001B[38;5;241;43m.\u001B[39;49m\u001B[43mGET_PAGE_SOURCE\u001B[49m\u001B[43m)\u001B[49m[\u001B[38;5;124m'\u001B[39m\u001B[38;5;124mvalue\u001B[39m\u001B[38;5;124m'\u001B[39m]\n",
      "File \u001B[1;32m~\\Desktop\\desktop\\web\\scrapper\\venv\\lib\\site-packages\\selenium\\webdriver\\remote\\webdriver.py:429\u001B[0m, in \u001B[0;36mWebDriver.execute\u001B[1;34m(self, driver_command, params)\u001B[0m\n\u001B[0;32m    427\u001B[0m response \u001B[38;5;241m=\u001B[39m \u001B[38;5;28mself\u001B[39m\u001B[38;5;241m.\u001B[39mcommand_executor\u001B[38;5;241m.\u001B[39mexecute(driver_command, params)\n\u001B[0;32m    428\u001B[0m \u001B[38;5;28;01mif\u001B[39;00m response:\n\u001B[1;32m--> 429\u001B[0m     \u001B[38;5;28;43mself\u001B[39;49m\u001B[38;5;241;43m.\u001B[39;49m\u001B[43merror_handler\u001B[49m\u001B[38;5;241;43m.\u001B[39;49m\u001B[43mcheck_response\u001B[49m\u001B[43m(\u001B[49m\u001B[43mresponse\u001B[49m\u001B[43m)\u001B[49m\n\u001B[0;32m    430\u001B[0m     response[\u001B[38;5;124m'\u001B[39m\u001B[38;5;124mvalue\u001B[39m\u001B[38;5;124m'\u001B[39m] \u001B[38;5;241m=\u001B[39m \u001B[38;5;28mself\u001B[39m\u001B[38;5;241m.\u001B[39m_unwrap_value(\n\u001B[0;32m    431\u001B[0m         response\u001B[38;5;241m.\u001B[39mget(\u001B[38;5;124m'\u001B[39m\u001B[38;5;124mvalue\u001B[39m\u001B[38;5;124m'\u001B[39m, \u001B[38;5;28;01mNone\u001B[39;00m))\n\u001B[0;32m    432\u001B[0m     \u001B[38;5;28;01mreturn\u001B[39;00m response\n",
      "File \u001B[1;32m~\\Desktop\\desktop\\web\\scrapper\\venv\\lib\\site-packages\\selenium\\webdriver\\remote\\errorhandler.py:243\u001B[0m, in \u001B[0;36mErrorHandler.check_response\u001B[1;34m(self, response)\u001B[0m\n\u001B[0;32m    241\u001B[0m         alert_text \u001B[38;5;241m=\u001B[39m value[\u001B[38;5;124m'\u001B[39m\u001B[38;5;124malert\u001B[39m\u001B[38;5;124m'\u001B[39m]\u001B[38;5;241m.\u001B[39mget(\u001B[38;5;124m'\u001B[39m\u001B[38;5;124mtext\u001B[39m\u001B[38;5;124m'\u001B[39m)\n\u001B[0;32m    242\u001B[0m     \u001B[38;5;28;01mraise\u001B[39;00m exception_class(message, screen, stacktrace, alert_text)  \u001B[38;5;66;03m# type: ignore[call-arg]  # mypy is not smart enough here\u001B[39;00m\n\u001B[1;32m--> 243\u001B[0m \u001B[38;5;28;01mraise\u001B[39;00m exception_class(message, screen, stacktrace)\n",
      "\u001B[1;31mNoSuchWindowException\u001B[0m: Message: no such window: target window already closed\nfrom unknown error: web view not found\n  (Session info: chrome=109.0.5414.120)\nStacktrace:\nBacktrace:\n\t(No symbol) [0x007A6643]\n\t(No symbol) [0x0073BE21]\n\t(No symbol) [0x0063DA9D]\n\t(No symbol) [0x0061EF6A]\n\t(No symbol) [0x00693AAB]\n\t(No symbol) [0x006A61B6]\n\t(No symbol) [0x0068FB76]\n\t(No symbol) [0x006649C1]\n\t(No symbol) [0x00665E5D]\n\tGetHandleVerifier [0x00A1A142+2497106]\n\tGetHandleVerifier [0x00A485D3+2686691]\n\tGetHandleVerifier [0x00A4BB9C+2700460]\n\tGetHandleVerifier [0x00853B10+635936]\n\t(No symbol) [0x00744A1F]\n\t(No symbol) [0x0074A418]\n\t(No symbol) [0x0074A505]\n\t(No symbol) [0x0075508B]\n\tBaseThreadInitThunk [0x775B7D69+25]\n\tRtlInitializeExceptionChain [0x77D4BB9B+107]\n\tRtlClearBits [0x77D4BB1F+191]\n"
     ]
    }
   ],
   "source": [
    "if os.path.exists(\"matched_urls.txt\"):\n",
    "    with open(\"matched_urls.txt\", 'r') as fao:\n",
    "        scrapped_links = [x.split('|')[0].strip() for x in fao.readlines()]\n",
    "if os.path.exists(\"visited_urls.txt\"):\n",
    "    with open(\"visited_urls.txt\", 'r') as fbo:\n",
    "        visited_links = [x.replace('\\n', '').strip() for x in fbo.readlines()]\n",
    "link_parser(news_webs)"
   ],
   "metadata": {
    "collapsed": false,
    "pycharm": {
     "name": "#%%\n"
    }
   }
  },
  {
   "cell_type": "code",
   "execution_count": null,
   "outputs": [],
   "source": [
    "with open('all_urls.txt', 'w') as f:\n",
    "    f.write(\"\\n\".join(all_urls))"
   ],
   "metadata": {
    "collapsed": false,
    "pycharm": {
     "name": "#%%\n"
    }
   }
  }
 ],
 "metadata": {
  "kernelspec": {
   "display_name": "Python 3",
   "language": "python",
   "name": "python3"
  },
  "language_info": {
   "codemirror_mode": {
    "name": "ipython",
    "version": 2
   },
   "file_extension": ".py",
   "mimetype": "text/x-python",
   "name": "python",
   "nbconvert_exporter": "python",
   "pygments_lexer": "ipython2",
   "version": "2.7.6"
  }
 },
 "nbformat": 4,
 "nbformat_minor": 0
}