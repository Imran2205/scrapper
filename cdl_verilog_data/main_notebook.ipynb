{
 "cells": [
  {
   "cell_type": "code",
   "execution_count": 2,
   "metadata": {
    "collapsed": true
   },
   "outputs": [],
   "source": [
    "import os"
   ]
  },
  {
   "cell_type": "code",
   "execution_count": 3,
   "outputs": [],
   "source": [
    "cdl_dir = f\"C:\\\\Users\\\\admin\\\\Desktop\\\\desktop\\\\web\\\\scrapper\\\\cdl_verilog_data\\\\cdl\\\\cdl\"\n",
    "verilog_path = f\"C:\\\\Users\\\\admin\\\\Desktop\\\\desktop\\\\web\\\\scrapper\\\\cdl_verilog_data\\\\im301E_digital.v\""
   ],
   "metadata": {
    "collapsed": false,
    "pycharm": {
     "name": "#%%\n"
    }
   }
  },
  {
   "cell_type": "code",
   "execution_count": 41,
   "outputs": [],
   "source": [
    "with open(verilog_path, 'r') as f:\n",
    "    verilog_data = f.readlines()\n",
    "\n",
    "real_time_created_cells = {\n",
    "\n",
    "}\n",
    "\n",
    "out_file = 'out.txt'\n",
    "\n",
    "out_lines = []\n",
    "\n",
    "line_no = 0\n",
    "while line_no < len(verilog_data):\n",
    "    line = verilog_data[line_no].strip()\n",
    "    if line.startswith('module'):\n",
    "        cell_name = line.split()[1]\n",
    "        out_line = f\".SUBCKT {cell_name} \"\n",
    "        extract_pins = []\n",
    "        # while not line.endswith(');'):\n",
    "        #     if not line.startswith('module'):\n",
    "        #         tmp_pin_name = line.replace(',', '').replace(';', '').replace(')', '')\n",
    "        #         if tmp_pin_name != 'VDD' or tmp_pin_name != 'GND':\n",
    "        #             extract_pins.append(\n",
    "        #                 tmp_pin_name\n",
    "        #             )\n",
    "        #     line_no += 1\n",
    "        #     line = verilog_data[line_no].strip()\n",
    "        # tmp_pin_name = line.replace(',', '').replace(';', '').replace(')', '')\n",
    "        # if tmp_pin_name != 'VDD' or tmp_pin_name != 'GND':\n",
    "        #     extract_pins.append(\n",
    "        #         tmp_pin_name\n",
    "        #     )\n",
    "\n",
    "        while not line.startswith('//'):\n",
    "            if line.startswith('input') or line.startswith('output'):\n",
    "                pin_name_should_be = line.strip().split()[1]\n",
    "\n",
    "                if pin_name_should_be.startswith('['):\n",
    "                    pin_name = line.strip().split()[-1].replace(';', '')\n",
    "                    pin_array_max = int(pin_name_should_be.replace('[', '').split(':')[0])\n",
    "                    pin_array_min = int(pin_name_should_be.replace(']', '').split(':')[1])\n",
    "                    for i in range(pin_array_max, pin_array_min-1, -1):\n",
    "                        out_line = out_line + f\"{pin_name}[{i}] \"\n",
    "                        if pin_name not in extract_pins:\n",
    "                            extract_pins.append(pin_name)\n",
    "                        # extract_pins.append(f\"{pin_name}[{i}]\")\n",
    "                else:\n",
    "                    pin_name = pin_name_should_be.replace(';', '')\n",
    "                    out_line = out_line + f\"{pin_name} \"\n",
    "                    if pin_name not in extract_pins:\n",
    "                        extract_pins.append(pin_name)\n",
    "            line_no += 1\n",
    "            if line_no >= len(verilog_data):\n",
    "                break\n",
    "            line = verilog_data[line_no].strip()\n",
    "\n",
    "        out_lines.append(out_line)\n",
    "        out_lines.append(\"\")\n",
    "        real_time_created_cells[cell_name] = extract_pins\n",
    "        # print(real_time_created_cells.keys())\n",
    "\n",
    "        while not line.startswith('endmodule'):\n",
    "            if line.endswith('(') and not line.startswith('module'):\n",
    "                cdl_cell = line.split()[0]\n",
    "                net_name = line.split()[1]\n",
    "                try:\n",
    "                    cdl_file = os.path.join(cdl_dir, f\"{cdl_cell}.cdl\")\n",
    "                    with open(cdl_file, 'r') as fc:\n",
    "                        cdl_data = fc.readlines()\n",
    "\n",
    "                    for line_c in cdl_data:\n",
    "                        if line_c.startswith('.SUBCKT'):\n",
    "                            pin_seq = line_c.split()[2:]\n",
    "                            break\n",
    "                except:\n",
    "                    try:\n",
    "                        pin_seq = real_time_created_cells[cdl_cell]\n",
    "                    except:\n",
    "                        pin_seq = []\n",
    "                    # print(cdl_cell)\n",
    "\n",
    "                temp_line_no = line_no + 1\n",
    "                temp_line = verilog_data[temp_line_no].strip()\n",
    "\n",
    "                net_dict = {}\n",
    "                while temp_line.startswith('.'):\n",
    "                    if temp_line.strip().startswith('.'):\n",
    "                        out_net = temp_line.split('(')[0].replace('.', '')\n",
    "                        in_net = temp_line.split('(')[-1].replace('),', '')\n",
    "                        net_dict[out_net] = in_net\n",
    "\n",
    "                    temp_line_no = temp_line_no + 1\n",
    "                    temp_line = verilog_data[temp_line_no].strip()\n",
    "                    if temp_line.startswith('endmodule'):\n",
    "                        break\n",
    "                # print(net_dict, pin_seq)\n",
    "\n",
    "                additional_line = f'X{net_name} '\n",
    "                for pn in pin_seq:\n",
    "                    if pn in net_dict.keys():\n",
    "                        additional_line = additional_line + f\"{net_dict[pn]} \"\n",
    "                out_lines.append(additional_line)\n",
    "\n",
    "            line_no += 1\n",
    "            if line_no >= len(verilog_data):\n",
    "                break\n",
    "            line = verilog_data[line_no].strip()\n",
    "        out_lines.append(\"\")\n",
    "        out_lines.append(\".ENDS\")\n",
    "        out_lines.append(\"\")\n",
    "        out_lines.append(\"\")\n",
    "    line_no += 1\n",
    "    if line_no >= len(verilog_data):\n",
    "        break\n",
    "    line = verilog_data[line_no].strip()\n",
    "\n",
    "\n",
    "with open(out_file, 'w') as f:\n",
    "    f.write(\"\\n\".join(out_lines))\n"
   ],
   "metadata": {
    "collapsed": false,
    "pycharm": {
     "name": "#%%\n"
    }
   }
  },
  {
   "cell_type": "code",
   "execution_count": null,
   "outputs": [],
   "source": [],
   "metadata": {
    "collapsed": false,
    "pycharm": {
     "name": "#%%\n"
    }
   }
  }
 ],
 "metadata": {
  "kernelspec": {
   "display_name": "Python 3",
   "language": "python",
   "name": "python3"
  },
  "language_info": {
   "codemirror_mode": {
    "name": "ipython",
    "version": 2
   },
   "file_extension": ".py",
   "mimetype": "text/x-python",
   "name": "python",
   "nbconvert_exporter": "python",
   "pygments_lexer": "ipython2",
   "version": "2.7.6"
  }
 },
 "nbformat": 4,
 "nbformat_minor": 0
}